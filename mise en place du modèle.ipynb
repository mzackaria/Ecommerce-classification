{
 "cells": [
  {
   "cell_type": "markdown",
   "metadata": {},
   "source": [
    "# Projet 5: Segmentez les comportements clients - Segmentation client\n",
    "\n",
    "## Introduction\n",
    "\n",
    "Nous avons dans une précédente partie analyser un dataset caractérisant les achats d'utilisateurs sur un site. Après une analyse exploratoire, nous avons essayer de créer une table qui permette selon nous de classer les utilisateurs selon des critères pertinents mais également pour que l'algorithme que nous allons implémenter dans cette partie converge rapidement.\n",
    "\n",
    "## Kmeans\n",
    "\n",
    "Nous choisissons tout d'abord d'utiliser un algotithme de kmeans puisque celui-ci va nous permettre de différencier les différents utlisateurs pour un coup de calcul pas très élevé. Nous allons donc utliser cette algorithme. Pour cela, il nous faut scaler nos données et ensuite trouver le nombre de classe optimum pour cette classification. \n",
    "\n",
    "Nous allons utiliser un StandardScaler (et ce malgré la présence d'outliers dans nos données) et observer les résultats grace à la méthode dit \"du coude\" (\"elbow method\" en anglais). Cette une méthode qui s'intéresse à la mesure de la somme des distances inter cluster et qui cherche à la minimser de manière intelligente.\n"
   ]
  },
  {
   "cell_type": "markdown",
   "metadata": {},
   "source": [
    "On charge notre table."
   ]
  },
  {
   "cell_type": "code",
   "execution_count": 1,
   "metadata": {},
   "outputs": [],
   "source": [
    "import pandas as pd\n",
    "df = pd.read_csv('data.csv')\n",
    "data = df.drop('CustomerID', 1)"
   ]
  },
  {
   "cell_type": "markdown",
   "metadata": {},
   "source": [
    "On normalise nos données avec un StandardScaler"
   ]
  },
  {
   "cell_type": "code",
   "execution_count": 2,
   "metadata": {},
   "outputs": [],
   "source": [
    "from sklearn.preprocessing import StandardScaler\n",
    "sc = StandardScaler()\n",
    "data_normalized = sc.fit_transform(data)"
   ]
  },
  {
   "cell_type": "markdown",
   "metadata": {},
   "source": [
    "On enregistre la somme des distances interclusters et le coefficient de silhouette"
   ]
  },
  {
   "cell_type": "code",
   "execution_count": 3,
   "metadata": {},
   "outputs": [],
   "source": [
    "from sklearn.cluster import KMeans\n",
    "from sklearn.metrics import silhouette_score\n",
    "wcss = []\n",
    "score = []\n",
    "for i in range(2, 30, 1):\n",
    "    kmeans = KMeans(n_clusters = i, init = 'k-means++')\n",
    "    kmeans.fit(data_normalized)\n",
    "    wcss.append(kmeans.inertia_)\n",
    "    score.append(silhouette_score(data_normalized, kmeans.predict(data_normalized)))"
   ]
  },
  {
   "cell_type": "markdown",
   "metadata": {},
   "source": [
    "On regarde la somme des distances interclusters en fonction du nombre de clusters pour définir le nombre de clusters optimal."
   ]
  },
  {
   "cell_type": "code",
   "execution_count": 4,
   "metadata": {},
   "outputs": [
    {
     "data": {
      "image/png": "[encoded data removed]",
      "text/plain": [
       "<matplotlib.figure.Figure at 0x1659fa82630>"
      ]
     },
     "metadata": {},
     "output_type": "display_data"
    }
   ],
   "source": [
    "%matplotlib inline\n",
    "import matplotlib.pyplot as plt\n",
    "plt.plot(range(2, 30, 1), wcss)\n",
    "plt.title('The Elbow Method')\n",
    "plt.xlabel('Number of clusters')\n",
    "plt.ylabel('WCSS')\n",
    "plt.show()"
   ]
  },
  {
   "cell_type": "markdown",
   "metadata": {},
   "source": [
    "On voit clairement un coude se former sur notre graphique ce qui est une bonne nouvelle. On va pouvoir déterminer un nombre optimal de clusters. On décide de prendre un nombre de clusters égale à 10.\n",
    "\n",
    "Regardons le coefficient de silhouette pour k=10."
   ]
  },
  {
   "cell_type": "code",
   "execution_count": 5,
   "metadata": {},
   "outputs": [
    {
     "data": {
      "image/png": "[encoded data removed]",
      "text/plain": [
       "<matplotlib.figure.Figure at 0x1659e828198>"
      ]
     },
     "metadata": {},
     "output_type": "display_data"
    }
   ],
   "source": [
    "plt.plot(range(2, 30, 1), score)\n",
    "plt.title('Silhouette')\n",
    "plt.xlabel('Number of clusters')\n",
    "plt.ylabel('Silhouette Score')\n",
    "plt.show()"
   ]
  },
  {
   "cell_type": "code",
   "execution_count": 6,
   "metadata": {},
   "outputs": [
    {
     "data": {
      "text/plain": [
       "0.77588121752072958"
      ]
     },
     "execution_count": 6,
     "metadata": {},
     "output_type": "execute_result"
    }
   ],
   "source": [
    "score[7]"
   ]
  },
  {
   "cell_type": "markdown",
   "metadata": {},
   "source": [
    "On va donc choisir un nombre de clusters égal à10."
   ]
  },
  {
   "cell_type": "code",
   "execution_count": 4,
   "metadata": {},
   "outputs": [],
   "source": [
    "from sklearn.cluster import KMeans\n",
    "kmeans = KMeans(n_clusters = 10, init = 'k-means++')\n",
    "y_kmeans = kmeans.fit_predict(data_normalized)"
   ]
  },
  {
   "cell_type": "markdown",
   "metadata": {},
   "source": [
    "On va essayer d'observer la distribution de nos clusters pour essayer de créer les clusters les plus homogènes possibles."
   ]
  },
  {
   "cell_type": "code",
   "execution_count": 9,
   "metadata": {},
   "outputs": [
    {
     "name": "stdout",
     "output_type": "stream",
     "text": [
      "185\n",
      "417\n",
      "1\n",
      "1\n",
      "2\n",
      "1\n",
      "6\n",
      "16\n",
      "3738\n",
      "4\n"
     ]
    }
   ],
   "source": [
    "import numpy as np\n",
    "for i in np.unique(y_kmeans):\n",
    "    c = sum(y_kmeans == i)\n",
    "    print(c)"
   ]
  },
  {
   "cell_type": "markdown",
   "metadata": {},
   "source": [
    "On voit 3 clusters apparaitre en majorité. Nous allons avoir besoin de plus de clusters pour mieux différencié les différents utilisateurs."
   ]
  },
  {
   "cell_type": "code",
   "execution_count": 14,
   "metadata": {},
   "outputs": [],
   "source": [
    "kmeans = KMeans(n_clusters = 30, init = 'k-means++')\n",
    "y_kmeans = kmeans.fit_predict(data_normalized)"
   ]
  },
  {
   "cell_type": "code",
   "execution_count": 15,
   "metadata": {},
   "outputs": [
    {
     "name": "stdout",
     "output_type": "stream",
     "text": [
      "1224\n",
      "413\n",
      "1\n",
      "1\n",
      "2\n",
      "3\n",
      "1\n",
      "1\n",
      "2\n",
      "1\n",
      "101\n",
      "62\n",
      "2\n",
      "3\n",
      "25\n",
      "11\n",
      "1\n",
      "216\n",
      "3\n",
      "12\n",
      "371\n",
      "1\n",
      "1872\n",
      "3\n",
      "9\n",
      "4\n",
      "1\n",
      "6\n",
      "18\n",
      "1\n"
     ]
    }
   ],
   "source": [
    "import numpy as np\n",
    "for i in np.unique(y_kmeans):\n",
    "    c = sum(y_kmeans == i)\n",
    "    print(c)"
   ]
  },
  {
   "cell_type": "markdown",
   "metadata": {},
   "source": [
    "On voit 6 clusters se former en majorité. Nous allons maintenant assigner tous les utilisateurs appartenant à des petites classes aux clusters des grandes classes en regardant quel est le centroïde le plus proche."
   ]
  },
  {
   "cell_type": "code",
   "execution_count": 32,
   "metadata": {},
   "outputs": [],
   "source": [
    "import numpy as np\n",
    "cluster_centers = kmeans.cluster_centers_\n",
    "from sklearn.neighbors import DistanceMetric\n",
    "dist = DistanceMetric.get_metric('euclidean')\n",
    "list_indice = []\n",
    "for i in np.unique(y_kmeans):\n",
    "    if sum(y_kmeans == i)/len(y_kmeans) < 0.02:\n",
    "        list_indice.append(i)\n",
    "        \n",
    "y_kmeans_small_class = np.unique(y_kmeans)[np.in1d(np.unique(y_kmeans), list_indice)]\n",
    "y_kmeans_class = np.unique(y_kmeans)[~np.in1d(np.unique(y_kmeans), list_indice)]\n",
    "cluster_centers = cluster_centers[y_kmeans_class]\n",
    "for i in y_kmeans_small_class:\n",
    "        d = data[y_kmeans == i]\n",
    "        d_normalized = sc.fit_transform(d.values)\n",
    "        for index in range(0, len(d_normalized)):\n",
    "            row_normalized = d_normalized[index]\n",
    "            x = np.concatenate([np.array(row_normalized).reshape((len(row_normalized), 1)).transpose(), cluster_centers], axis = 0)\n",
    "            distance = dist.pairwise(x)[0,:]\n",
    "            c = y_kmeans_class[np.argmin(distance[1:len(distance)])]\n",
    "            y_kmeans[y_kmeans == i] = c"
   ]
  },
  {
   "cell_type": "markdown",
   "metadata": {},
   "source": [
    "On peut maintenant que nos 6 classes sont formés regarder la distribution de ces classes."
   ]
  },
  {
   "cell_type": "code",
   "execution_count": 33,
   "metadata": {},
   "outputs": [
    {
     "data": {
      "text/plain": [
       "([<matplotlib.patches.Wedge at 0x1659fbd39b0>,\n",
       "  <matplotlib.patches.Wedge at 0x1659fd5a128>,\n",
       "  <matplotlib.patches.Wedge at 0x1659fd5add8>,\n",
       "  <matplotlib.patches.Wedge at 0x1659fd64ac8>,\n",
       "  <matplotlib.patches.Wedge at 0x1659fd687b8>,\n",
       "  <matplotlib.patches.Wedge at 0x1659fd704a8>],\n",
       " [<matplotlib.text.Text at 0x1659fd4fbe0>,\n",
       "  <matplotlib.text.Text at 0x1659fd5a8d0>,\n",
       "  <matplotlib.text.Text at 0x1659fd645c0>,\n",
       "  <matplotlib.text.Text at 0x1659fd682b0>,\n",
       "  <matplotlib.text.Text at 0x1659fd68f60>,\n",
       "  <matplotlib.text.Text at 0x1659fd70c50>])"
      ]
     },
     "execution_count": 33,
     "metadata": {},
     "output_type": "execute_result"
    },
    {
     "data": {
      "image/png": "[encoded data removed]",
      "text/plain": [
       "<matplotlib.figure.Figure at 0x1659fc44160>"
      ]
     },
     "metadata": {},
     "output_type": "display_data"
    }
   ],
   "source": [
    "counts = []\n",
    "for i in np.unique(y_kmeans):\n",
    "    counts.append(sum(y_kmeans == i)/len(y_kmeans))\n",
    "labels = y_kmeans_class\n",
    "plt.pie(counts, labels = labels)"
   ]
  },
  {
   "cell_type": "markdown",
   "metadata": {},
   "source": [
    "On peut maintenant essayer de regarder les caractéristiques de chacun de ces clusters en observant les caractéristiques de chacun des centroïdes."
   ]
  },
  {
   "cell_type": "code",
   "execution_count": 35,
   "metadata": {},
   "outputs": [
    {
     "data": {
      "text/plain": [
       "<matplotlib.legend.Legend at 0x1659fd93ac8>"
      ]
     },
     "execution_count": 35,
     "metadata": {},
     "output_type": "execute_result"
    },
    {
     "data": {
      "image/png": "[encoded data removed]",
      "text/plain": [
       "<matplotlib.figure.Figure at 0x1659fd93b38>"
      ]
     },
     "metadata": {},
     "output_type": "display_data"
    }
   ],
   "source": [
    "from sklearn.preprocessing import MinMaxScaler\n",
    "cluster_centers = []\n",
    "for i in np.unique(y_kmeans):\n",
    "    cluster_centers.append(data[y_kmeans == i].mean().values)\n",
    "cluster_centers = np.array(cluster_centers)\n",
    "mm_sc = MinMaxScaler()\n",
    "cluster_centers = mm_sc.fit_transform(cluster_centers)\n",
    "center = pd.DataFrame(cluster_centers, index = y_kmeans_class, columns = data.columns)\n",
    "ax = center.plot.bar();\n",
    "ax.legend(bbox_to_anchor=(1.1, 1))"
   ]
  },
  {
   "cell_type": "markdown",
   "metadata": {},
   "source": [
    "Nous pouvons dès à présent identifier qui sont les différents utilisateurs de notre dataset:\n",
    "\n",
    "- la classe 0: cette utilisateur achète des articles à prix élevé en quantité moyenne, il revient assez souvent mais n'a pas encore dépensé énormément d'argent sur le site.\n",
    "- la classe 1: correspond à la classe des utilisateurs étrangers, ces utilisateurs sont les moins actifs sur notre site.\n",
    "- la classe 10: ces utilisateurs sont caractérisés par le fait qu'ils reviennent peu souvent sur notre site. Ils ont déjà dépensé de l'argent sur notre site sur des items à bas prix en quantité faible.\n",
    "- la classe 17: représente les utilisateurs les plus actifs de notre site. Ils dépensent en grande quantité sur des items avec des prix élevés et reviennent régulièrement.\n",
    "- la classe 20: ils reviennent souvent sur le site dépense de l'argent en petite quantité, et sont préents sur notre site depuis un moment.\n",
    "- la classe 5: ils dépensent de manière plus conservatrices, reviennent assez souvent sans pour autant dépenser beaucoup d'argent (prix des items faibles).\n",
    "- la classe 22: la classe des utilisateurs les moins présents sur le site."
   ]
  },
  {
   "cell_type": "markdown",
   "metadata": {},
   "source": [
    "Nous avons observé les différentes caractéristiques de nos classes. On veut maintenant pouvoir les classer le plus rapidement possible.\n",
    "\n",
    "## Classification\n",
    "\n",
    "Nous allons maintenant essayer de classsifier nos utilisateurs en entrainant notre algorithme sur nos données et essayer de retrouver les résultats de la classification précédente.\n",
    "\n",
    "Tout d'abord nous allons séparer nos données entre données d'entrainement et données de test.\n",
    "\n",
    "Pour cela nous séparons les identifiants des utilisateurs en deux sets: le jeux d'entrainement et le jeu de test. Nous allons ensuite découper notre dataset en ne retenant tout d'abord que les achats qui ont pour identifiant un des identifiants d'entrainements. "
   ]
  },
  {
   "cell_type": "code",
   "execution_count": 36,
   "metadata": {},
   "outputs": [
    {
     "name": "stderr",
     "output_type": "stream",
     "text": [
      "c:\\users\\zakis\\anaconda3\\lib\\site-packages\\sklearn\\cross_validation.py:44: DeprecationWarning: This module was deprecated in version 0.18 in favor of the model_selection module into which all the refactored classes and functions are moved. Also note that the interface of the new CV iterators are different from that of this module. This module will be removed in 0.20.\n",
      "  \"This module will be removed in 0.20.\", DeprecationWarning)\n"
     ]
    }
   ],
   "source": [
    "import pandas as pd\n",
    "import numpy as np\n",
    "import datetime as dt\n",
    "\n",
    "from sklearn.cross_validation import train_test_split\n",
    "from sklearn.ensemble import RandomForestClassifier\n",
    "from sklearn.metrics import accuracy_score\n",
    "from sklearn.metrics import confusion_matrix\n",
    "from sklearn.ensemble import GradientBoostingClassifier, VotingClassifier\n",
    "from sklearn.preprocessing import StandardScaler\n",
    "from sklearn.linear_model import LogisticRegression\n",
    "from sklearn.svm import SVC\n",
    "\n",
    "import preprocessing_dataset\n",
    "\n",
    "df = pd.read_excel(\"Online Retail.xlsx\")\n",
    "y_kmeans = pd.read_csv('y_kmeans.csv')\n",
    "customerID = y_kmeans.CustomerID\n",
    "y_kmeans = y_kmeans.drop('CustomerID', 1)"
   ]
  },
  {
   "cell_type": "code",
   "execution_count": 37,
   "metadata": {},
   "outputs": [],
   "source": [
    "# Splitting the dataset into the Training set and Test set\n",
    "customerID_train, customerID_test = train_test_split(customerID, test_size=0.2, random_state=0)\n",
    "\n",
    "df_train = df\n",
    "df_test =  df\n",
    "\n",
    "X_train = df_train[np.in1d(df_train.CustomerID, customerID_train)]\n",
    "X_train_preprocessed = preprocessing_dataset.preprocess_dataset(X_train)\n",
    "customerID_train = X_train_preprocessed.index\n",
    "\n",
    "X_test = df_test[np.in1d(df_test.CustomerID, customerID_test)]\n",
    "X_test_preprocessed = preprocessing_dataset.preprocess_dataset(X_test)\n",
    "customerID_test = X_test_preprocessed.index\n",
    "\n",
    "y_train = y_kmeans[np.in1d(customerID, customerID_train)]\n",
    "y_test = y_kmeans[np.in1d(customerID, customerID_test)]\n",
    "\n",
    "sc_X = StandardScaler()\n",
    "X_train_preprocessed = sc_X.fit_transform(X_train_preprocessed)\n",
    "X_test_preprocessed = sc_X.transform(X_test_preprocessed)"
   ]
  },
  {
   "cell_type": "markdown",
   "metadata": {},
   "source": [
    "Nous allons utilisés différents algorithmes et observer leurs performances. Parmi ces algorithmes: SVC, Logistic Regression, Random Forest Classifier, Gradient Bossting Classifier."
   ]
  },
  {
   "cell_type": "markdown",
   "metadata": {},
   "source": [
    "### SVC"
   ]
  },
  {
   "cell_type": "code",
   "execution_count": 38,
   "metadata": {},
   "outputs": [
    {
     "name": "stderr",
     "output_type": "stream",
     "text": [
      "c:\\users\\zakis\\anaconda3\\lib\\site-packages\\sklearn\\utils\\validation.py:526: DataConversionWarning: A column-vector y was passed when a 1d array was expected. Please change the shape of y to (n_samples, ), for example using ravel().\n",
      "  y = column_or_1d(y, warn=True)\n"
     ]
    },
    {
     "name": "stdout",
     "output_type": "stream",
     "text": [
      "0.969142857143\n"
     ]
    }
   ],
   "source": [
    "svc = SVC()\n",
    "model = svc.fit(X_train_preprocessed, y_train)\n",
    "pred = svc.predict(X_test_preprocessed)\n",
    "print(accuracy_score(y_test, pred))"
   ]
  },
  {
   "cell_type": "markdown",
   "metadata": {},
   "source": [
    "### Logistic Regression"
   ]
  },
  {
   "cell_type": "code",
   "execution_count": 39,
   "metadata": {},
   "outputs": [
    {
     "name": "stderr",
     "output_type": "stream",
     "text": [
      "c:\\users\\zakis\\anaconda3\\lib\\site-packages\\sklearn\\utils\\validation.py:526: DataConversionWarning: A column-vector y was passed when a 1d array was expected. Please change the shape of y to (n_samples, ), for example using ravel().\n",
      "  y = column_or_1d(y, warn=True)\n"
     ]
    },
    {
     "name": "stdout",
     "output_type": "stream",
     "text": [
      "0.744\n"
     ]
    }
   ],
   "source": [
    "lr = LogisticRegression()\n",
    "model = lr.fit(X_train_preprocessed, y_train)\n",
    "pred = lr.predict(X_test_preprocessed)\n",
    "print(accuracy_score(y_test, pred))"
   ]
  },
  {
   "cell_type": "markdown",
   "metadata": {},
   "source": [
    "### Random Forest Classification"
   ]
  },
  {
   "cell_type": "code",
   "execution_count": 40,
   "metadata": {},
   "outputs": [
    {
     "name": "stderr",
     "output_type": "stream",
     "text": [
      "c:\\users\\zakis\\anaconda3\\lib\\site-packages\\ipykernel_launcher.py:2: DataConversionWarning: A column-vector y was passed when a 1d array was expected. Please change the shape of y to (n_samples,), for example using ravel().\n",
      "  \n"
     ]
    },
    {
     "name": "stdout",
     "output_type": "stream",
     "text": [
      "0.978285714286\n"
     ]
    }
   ],
   "source": [
    "rfc = RandomForestClassifier()\n",
    "model = rfc.fit(X_train_preprocessed, y_train)\n",
    "pred = rfc.predict(X_test_preprocessed)\n",
    "print(accuracy_score(y_test, pred))"
   ]
  },
  {
   "cell_type": "markdown",
   "metadata": {},
   "source": [
    "### Gradient Boosting Classifier"
   ]
  },
  {
   "cell_type": "code",
   "execution_count": 41,
   "metadata": {},
   "outputs": [
    {
     "name": "stderr",
     "output_type": "stream",
     "text": [
      "c:\\users\\zakis\\anaconda3\\lib\\site-packages\\sklearn\\utils\\validation.py:526: DataConversionWarning: A column-vector y was passed when a 1d array was expected. Please change the shape of y to (n_samples, ), for example using ravel().\n",
      "  y = column_or_1d(y, warn=True)\n"
     ]
    },
    {
     "name": "stdout",
     "output_type": "stream",
     "text": [
      "0.987428571429\n"
     ]
    }
   ],
   "source": [
    "gbc = GradientBoostingClassifier()\n",
    "model = gbc.fit(X_train_preprocessed, y_train)\n",
    "pred = gbc.predict(X_test_preprocessed)\n",
    "print(accuracy_score(y_test, pred))"
   ]
  },
  {
   "cell_type": "markdown",
   "metadata": {},
   "source": [
    "On voit que le gradient boosting est ici le plus performant de nos algorithmes. Cependant on voit également que le random forest et le SVC ont également de très bonnes performances. Ce que nous allons faire est de moyenner ces trois classifieurs pour obtenir des résultats plus proche de la réalité."
   ]
  },
  {
   "cell_type": "code",
   "execution_count": 42,
   "metadata": {},
   "outputs": [
    {
     "name": "stderr",
     "output_type": "stream",
     "text": [
      "c:\\users\\zakis\\anaconda3\\lib\\site-packages\\sklearn\\preprocessing\\label.py:112: DataConversionWarning: A column-vector y was passed when a 1d array was expected. Please change the shape of y to (n_samples, ), for example using ravel().\n",
      "  y = column_or_1d(y, warn=True)\n",
      "c:\\users\\zakis\\anaconda3\\lib\\site-packages\\sklearn\\preprocessing\\label.py:147: DataConversionWarning: A column-vector y was passed when a 1d array was expected. Please change the shape of y to (n_samples, ), for example using ravel().\n",
      "  y = column_or_1d(y, warn=True)\n"
     ]
    },
    {
     "name": "stdout",
     "output_type": "stream",
     "text": [
      "0.985142857143\n"
     ]
    }
   ],
   "source": [
    "vc2 = VotingClassifier(estimators=[('rf', rfc), ('gbc', gbc), ('svc', svc)], voting='hard')\n",
    "model = vc2.fit(X_train_preprocessed, y_train)\n",
    "pred = vc2.predict(X_test_preprocessed)\n",
    "print(accuracy_score(y_test, pred))"
   ]
  },
  {
   "cell_type": "markdown",
   "metadata": {},
   "source": [
    "Le but de notre étude est également d'essayer de classer nos utilsateurs le plus rapidement possible. Nous allons donc essayer d'observer la qualité de notre classification au cours du temps et comparer les différents algorithmes sur ce critère.\n",
    "\n",
    "## Classification au cours du temps\n",
    "\n",
    "Nous allons observer les différents algorithmes et la progression de leurs résultats en augmentant le champ des observations au cours du temps dans notre dataset de test."
   ]
  },
  {
   "cell_type": "code",
   "execution_count": 44,
   "metadata": {},
   "outputs": [],
   "source": [
    "STOP_DATE = dt.datetime(2011,1,1)\n",
    "confusion_matrixes = []\n",
    "accuracy_score_list = []\n",
    "index = []\n",
    "while STOP_DATE <  df.InvoiceDate.max():\n",
    "    \n",
    "    df_test =  df[df.InvoiceDate < STOP_DATE] \n",
    "    X_test = df_test[np.in1d(df_test.CustomerID, customerID_test)]\n",
    "    X_test_preprocessed = preprocessing_dataset.preprocess_dataset(X_test)\n",
    "    customerID_test = X_test_preprocessed.index\n",
    "    y_test = y_kmeans[np.in1d(customerID, customerID_test)]\n",
    "    X_test_preprocessed = sc_X.transform(X_test_preprocessed)\n",
    "    \n",
    "    pred_gvc = gbc.predict(X_test_preprocessed)\n",
    "    pred_lr = lr.predict(X_test_preprocessed)\n",
    "    pred_rfc = rfc.predict(X_test_preprocessed)\n",
    "    pred_svc = svc.predict(X_test_preprocessed)\n",
    "    pred_vc2 = vc2.predict(X_test_preprocessed)\n",
    "    c = confusion_matrix(y_test, pred_gvc)\n",
    "    \n",
    "    index.append(30+(STOP_DATE - dt.datetime(2011,1,1)).days)\n",
    "    \n",
    "    confusion_matrixes.append(c)\n",
    "    \n",
    "    accuracy_score_list.append([accuracy_score(y_test, pred_svc),\n",
    "                           accuracy_score(y_test, pred_lr),\n",
    "                           accuracy_score(y_test, pred_rfc),\n",
    "                           accuracy_score(y_test, pred_gvc),\n",
    "                           accuracy_score(y_test, pred_vc2)])\n",
    "    \n",
    "    STOP_DATE = STOP_DATE + dt.timedelta(days = 3)"
   ]
  },
  {
   "cell_type": "code",
   "execution_count": 47,
   "metadata": {},
   "outputs": [
    {
     "data": {
      "image/png": "[encoded data removed]",
      "text/plain": [
       "<matplotlib.figure.Figure at 0x165b0b7fe10>"
      ]
     },
     "metadata": {},
     "output_type": "display_data"
    }
   ],
   "source": [
    "accuracy_score_list = np.array(accuracy_score_list).astype(float) \n",
    "labels = ['svc', 'lr','random forest', 'sgd', 'voting classifier']\n",
    "import matplotlib.pyplot as plt\n",
    "ax = plt.gca()\n",
    "for i in range(0,5): \n",
    "    ax.plot(index, accuracy_score_list[:,i], label = labels[i])\n",
    "ax.legend()\n",
    "plt.xlabel('période du dataset en nombre de jours')\n",
    "plt.ylabel('taux de réussite')\n",
    "plt.title('réussite de lalgorithme en fonction de la période d achat')\n",
    "plt.axis('tight')\n",
    "plt.show()"
   ]
  },
  {
   "cell_type": "markdown",
   "metadata": {},
   "source": [
    "On voit que le fait d'avoir choisi des features qui ne vont se modifier que peu dans le temps et qui vont à priori permettre de faire converger notre algorithme à marcher. Au bout de 30 jours, on a déjà un classifieur qui a un taux de réussite de 50%. "
   ]
  },
  {
   "cell_type": "markdown",
   "metadata": {},
   "source": [
    "## Taux de réussite des différentes classes au cours du temps\n",
    "\n",
    "On peut également observer la convergence pour chacune des classes de notre classifieur:"
   ]
  },
  {
   "cell_type": "code",
   "execution_count": 54,
   "metadata": {},
   "outputs": [
    {
     "name": "stderr",
     "output_type": "stream",
     "text": [
      "c:\\users\\zakis\\anaconda3\\lib\\site-packages\\ipykernel_launcher.py:6: RuntimeWarning: invalid value encountered in long_scalars\n",
      "  \n",
      "c:\\users\\zakis\\anaconda3\\lib\\site-packages\\ipykernel_launcher.py:8: RuntimeWarning: invalid value encountered in long_scalars\n",
      "  \n"
     ]
    },
    {
     "data": {
      "image/png": "[encoded data removed]",
      "text/plain": [
       "<matplotlib.figure.Figure at 0x165b1198a20>"
      ]
     },
     "metadata": {},
     "output_type": "display_data"
    }
   ],
   "source": [
    "accuracy_score_user_ = []\n",
    "for i in range(0,len(index)):\n",
    "    c = confusion_matrixes[i]\n",
    "    accuracy_score_user_.append([c[0][0]/sum(c)[0],\n",
    "                                 c[1][1]/sum(c)[1],\n",
    "                                 c[2][2]/sum(c)[2],\n",
    "                                 c[3][3]/sum(c)[3],\n",
    "                                 c[4][4]/sum(c)[4]])\n",
    "    \n",
    "accuracy_score_user_ = np.array(accuracy_score_user_).astype(float) \n",
    "\n",
    "labels = y_kmeans_class\n",
    "import matplotlib.pyplot as plt\n",
    "ax = plt.gca() \n",
    "for i in range(0,5): \n",
    "    ax.plot(index, accuracy_score_user_[:,i], label = labels[i])\n",
    "ax.legend()\n",
    "plt.xlabel('période du dataset en nombre de jours')\n",
    "plt.ylabel('taux de réussite par classe du voting classifier')\n",
    "plt.title('réussite de lalgorithme en fonction de la période d achat')\n",
    "plt.axis('tight')\n",
    "plt.show()"
   ]
  },
  {
   "cell_type": "markdown",
   "metadata": {},
   "source": [
    "On voit que c'est la classe numéro 10 qui est la plus difficile à prévoir. On se rappelle qu'ils correspondent aux utilisateurs qui ont dépensé de l'argent sur le sie mais qui ne reviennent pas souvent.\n",
    "\n",
    "Il serait intéressant de voir l'évolution des caractéristiques de ces utilisateurs au cours du temps. Nous allons prendre un utilisateur de cette classe et observer son évolution au cours de l'année."
   ]
  },
  {
   "cell_type": "code",
   "execution_count": 78,
   "metadata": {},
   "outputs": [
    {
     "data": {
      "text/plain": [
       "array([[ 32,   0],\n",
       "       [ 38,   0],\n",
       "       [ 64,   0],\n",
       "       [ 75,   0],\n",
       "       [ 90,   0],\n",
       "       [154,   0],\n",
       "       [167,   0],\n",
       "       [177,   0]], dtype=int64)"
      ]
     },
     "execution_count": 78,
     "metadata": {},
     "output_type": "execute_result"
    }
   ],
   "source": [
    "np.argwhere(y_test.values == 13)"
   ]
  },
  {
   "cell_type": "code",
   "execution_count": 81,
   "metadata": {},
   "outputs": [],
   "source": [
    "STOP_DATE = dt.datetime(2011,1,1)\n",
    "user_caracteristic = []\n",
    "user = []\n",
    "index = []\n",
    "indice = 38\n",
    "while STOP_DATE <  df.InvoiceDate.max():\n",
    "    \n",
    "    df_test =  df[df.InvoiceDate < STOP_DATE] \n",
    "    X_test = df_test[np.in1d(df_test.CustomerID, customerID_test)]\n",
    "    X_test_preprocessed = preprocessing_dataset.preprocess_dataset(X_test)\n",
    "    customerID_test = X_test_preprocessed.index\n",
    "    y_test = y_kmeans[np.in1d(customerID, customerID_test)]\n",
    "    X_test_preprocessed = sc_X.transform(X_test_preprocessed)\n",
    "    \n",
    "    pred_gvc = gbc.predict(X_test_preprocessed)\n",
    "    pred_vc2 = vc2.predict(X_test_preprocessed)\n",
    "    \n",
    "    index.append(30+(STOP_DATE - dt.datetime(2011,1,1)).days)\n",
    "    \n",
    "    user.append(pred_vc2[indice])\n",
    "    user_caracteristic.append(X_test_preprocessed[indice,:])\n",
    "    \n",
    "    STOP_DATE = STOP_DATE + dt.timedelta(days = 30)"
   ]
  },
  {
   "cell_type": "code",
   "execution_count": 82,
   "metadata": {},
   "outputs": [
    {
     "data": {
      "text/plain": [
       "<matplotlib.legend.Legend at 0x165a027cc88>"
      ]
     },
     "execution_count": 82,
     "metadata": {},
     "output_type": "execute_result"
    },
    {
     "data": {
      "image/png": "[encoded data removed]",
      "text/plain": [
       "<matplotlib.figure.Figure at 0x165b4956a90>"
      ]
     },
     "metadata": {},
     "output_type": "display_data"
    }
   ],
   "source": [
    "user_caracteristic = np.array(user_caracteristic).reshape((12,len(data.columns)))\n",
    "mm_sc = MinMaxScaler()\n",
    "user_caracteristic = mm_sc.fit_transform(user_caracteristic)\n",
    "user_caracteristic = pd.DataFrame(user_caracteristic, columns = data.columns)\n",
    "ax = user_caracteristic.plot.bar();\n",
    "ax.legend(bbox_to_anchor=(1.1, 1))"
   ]
  },
  {
   "cell_type": "markdown",
   "metadata": {},
   "source": [
    "On voit que cette acheteur n'a pas dépensé d'argent avant le dernier mois ce pourquoi il est impossible de le classifier correctement avant. "
   ]
  },
  {
   "cell_type": "markdown",
   "metadata": {},
   "source": [
    "## Conclusion\n",
    "\n",
    "Nous avons clusteriser nos utilisateurs via un algorithme de k-means qui nous permet de différencier différents types d'utilisateurs. Nous avons essayer de faire apparaitre l'algorithme le plus efficace pour les classifier. nous avons choisi un voting classifier composé d'un random forest, d'un SVC et d'un gradient boosting.\n",
    "\n",
    "On a donc réussi à classer nos utilisateurs de la manière la plus rapide possible en essayant de ne prendre en compte que les variables qui permettent de classifier les utilisateurs le plus rapidement possible. \n",
    "\n",
    "Cependant on voit dans la dernière partie que les utilisateurs nouveaux ont du mal à être classifier. C'est parce que nous avons supprimer les variables tels que recency et frequency (on aurait pu également enregistrer une variable qui nous permettrait de savoir combien de jours se sont passés depuis le premier achat). Nous avons décider de supprimer ces variables pour pouvoir classifier nos utilisateurs le plus rapidement possible. \n",
    "\n",
    "Sans être aussi radical dans notre approche, il aurait pu être possible de prendre en compte ces variables mais en leur donnant une importance moindre dans la classification - en les pondérant. De cette manière on aurait pu essayer de faire converger notre algorithme moins rapidement mais en pouvant mieux distinguer les utilisateurs nouveaux des utilisateurs plus anciens."
   ]
  }
 ],
 "metadata": {
  "kernelspec": {
   "display_name": "Python 3",
   "language": "python",
   "name": "python3"
  },
  "language_info": {
   "codemirror_mode": {
    "name": "ipython",
    "version": 3
   },
   "file_extension": ".py",
   "mimetype": "text/x-python",
   "name": "python",
   "nbconvert_exporter": "python",
   "pygments_lexer": "ipython3",
   "version": "3.6.1"
  }
 },
 "nbformat": 4,
 "nbformat_minor": 2
}
