{
 "cells": [
  {
   "cell_type": "markdown",
   "metadata": {},
   "source": [
    "# Projet 5: Segmentez les comportements clients - Analyse exploratoire\n",
    "\n",
    "## Introduction\n",
    "\n",
    "Nous nous intéressons dans ce projet à un dataset qui recensent des achats fait sur un site internet. Notre objectif sera de différencier les utilisateurs en fonction de leurs comportements dans le but de faire une approche plus ciblée.\n",
    "\n",
    "Nous allons tout d'abord explorer nos données et essayer par la suite de créer une base de données qui nous permettra de bien différencier les utilisateurs.\n",
    "\n",
    "## Le dataset"
   ]
  },
  {
   "cell_type": "code",
   "execution_count": 142,
   "metadata": {},
   "outputs": [],
   "source": [
    "import pandas as pd\n",
    "df = pd.read_excel(\"Online Retail.xlsx\")"
   ]
  },
  {
   "cell_type": "code",
   "execution_count": 143,
   "metadata": {},
   "outputs": [
    {
     "data": {
      "text/plain": [
       "(541909, 8)"
      ]
     },
     "execution_count": 143,
     "metadata": {},
     "output_type": "execute_result"
    }
   ],
   "source": [
    "df.shape"
   ]
  },
  {
   "cell_type": "markdown",
   "metadata": {},
   "source": [
    "Nous avons donc 541 909 achats présents dans notre dataset. Regardons les variables explicatives de ces achats."
   ]
  },
  {
   "cell_type": "code",
   "execution_count": 144,
   "metadata": {},
   "outputs": [
    {
     "data": {
      "text/plain": [
       "Index(['InvoiceNo', 'StockCode', 'Description', 'Quantity', 'InvoiceDate',\n",
       "       'UnitPrice', 'CustomerID', 'Country'],\n",
       "      dtype='object')"
      ]
     },
     "execution_count": 144,
     "metadata": {},
     "output_type": "execute_result"
    }
   ],
   "source": [
    "df.columns"
   ]
  },
  {
   "cell_type": "markdown",
   "metadata": {},
   "source": [
    "Combien y a-t-il d'utilisateurs dans cette bases de données?"
   ]
  },
  {
   "cell_type": "code",
   "execution_count": 145,
   "metadata": {},
   "outputs": [
    {
     "data": {
      "text/plain": [
       "(139452,)"
      ]
     },
     "execution_count": 145,
     "metadata": {},
     "output_type": "execute_result"
    }
   ],
   "source": [
    "import numpy as np\n",
    "np.unique(df[['CustomerID']].values).shape"
   ]
  },
  {
   "cell_type": "markdown",
   "metadata": {},
   "source": [
    "On remarque également qu'il y a beaucoup d'utilisateurs qui n'ont pas d'ifentifiants et on décide de les supprimer de la base."
   ]
  },
  {
   "cell_type": "code",
   "execution_count": 146,
   "metadata": {},
   "outputs": [],
   "source": [
    "df = df[~df[['CustomerID']].isnull().values]"
   ]
  },
  {
   "cell_type": "code",
   "execution_count": 147,
   "metadata": {},
   "outputs": [
    {
     "data": {
      "text/plain": [
       "(406829, 8)"
      ]
     },
     "execution_count": 147,
     "metadata": {},
     "output_type": "execute_result"
    }
   ],
   "source": [
    "df.shape"
   ]
  },
  {
   "cell_type": "markdown",
   "metadata": {},
   "source": [
    "## Fréquence\n",
    "\n",
    "On a donc des utilisateurs qui appairaissent des multiples fois dans nos données. On verra par la suite qui sont ces utilisateurs. On peut tout de suite observer le nombre d'achats par utilisateurs."
   ]
  },
  {
   "cell_type": "code",
   "execution_count": 148,
   "metadata": {},
   "outputs": [
    {
     "data": {
      "text/plain": [
       "array([[<matplotlib.axes._subplots.AxesSubplot object at 0x00000249B400E0B8>]], dtype=object)"
      ]
     },
     "execution_count": 148,
     "metadata": {},
     "output_type": "execute_result"
    },
    {
     "data": {
      "image/png": "[encoded data removed]",
      "text/plain": [
       "<matplotlib.figure.Figure at 0x249b39b4dd8>"
      ]
     },
     "metadata": {},
     "output_type": "display_data"
    }
   ],
   "source": [
    "%matplotlib inline\n",
    "\n",
    "frequency = df.groupby('CustomerID').agg({'InvoiceNo': lambda x: len(x)})\n",
    "frequency = frequency[frequency.values < 500]\n",
    "frequency.hist(bins = 50)"
   ]
  },
  {
   "cell_type": "markdown",
   "metadata": {},
   "source": [
    "On voit ici la distribution de la fréquence à laquelle revienne les utilisateurs faire des achats sur le site. A noter que certains des utilisateurs ont été supprimés pour plus de visibiltés: en effet, les utilisateurs avec plus de 500 achats ne représentent qu'une faible portion des utilisateurs. On peut noter la fréquence maximale qui est très élevés. "
   ]
  },
  {
   "cell_type": "code",
   "execution_count": 149,
   "metadata": {},
   "outputs": [
    {
     "data": {
      "text/plain": [
       "InvoiceNo    7983\n",
       "dtype: int64"
      ]
     },
     "execution_count": 149,
     "metadata": {},
     "output_type": "execute_result"
    }
   ],
   "source": [
    "frequency = df.groupby('CustomerID').agg({'InvoiceNo': lambda x: len(x)})\n",
    "frequency.max()"
   ]
  },
  {
   "cell_type": "markdown",
   "metadata": {},
   "source": [
    "## Argent dépensé\n",
    "\n",
    "On peut également regarder quelles sont les montants dess transactions."
   ]
  },
  {
   "cell_type": "code",
   "execution_count": 150,
   "metadata": {},
   "outputs": [
    {
     "data": {
      "text/html": [
       "<div>\n",
       "<style>\n",
       "    .dataframe thead tr:only-child th {\n",
       "        text-align: right;\n",
       "    }\n",
       "\n",
       "    .dataframe thead th {\n",
       "        text-align: left;\n",
       "    }\n",
       "\n",
       "    .dataframe tbody tr th {\n",
       "        vertical-align: top;\n",
       "    }\n",
       "</style>\n",
       "<table border=\"1\" class=\"dataframe\">\n",
       "  <thead>\n",
       "    <tr style=\"text-align: right;\">\n",
       "      <th></th>\n",
       "      <th>UnitPrice</th>\n",
       "    </tr>\n",
       "  </thead>\n",
       "  <tbody>\n",
       "    <tr>\n",
       "      <th>count</th>\n",
       "      <td>406829.000000</td>\n",
       "    </tr>\n",
       "    <tr>\n",
       "      <th>mean</th>\n",
       "      <td>3.460471</td>\n",
       "    </tr>\n",
       "    <tr>\n",
       "      <th>std</th>\n",
       "      <td>69.315162</td>\n",
       "    </tr>\n",
       "    <tr>\n",
       "      <th>min</th>\n",
       "      <td>0.000000</td>\n",
       "    </tr>\n",
       "    <tr>\n",
       "      <th>25%</th>\n",
       "      <td>1.250000</td>\n",
       "    </tr>\n",
       "    <tr>\n",
       "      <th>50%</th>\n",
       "      <td>1.950000</td>\n",
       "    </tr>\n",
       "    <tr>\n",
       "      <th>75%</th>\n",
       "      <td>3.750000</td>\n",
       "    </tr>\n",
       "    <tr>\n",
       "      <th>max</th>\n",
       "      <td>38970.000000</td>\n",
       "    </tr>\n",
       "  </tbody>\n",
       "</table>\n",
       "</div>"
      ],
      "text/plain": [
       "           UnitPrice\n",
       "count  406829.000000\n",
       "mean        3.460471\n",
       "std        69.315162\n",
       "min         0.000000\n",
       "25%         1.250000\n",
       "50%         1.950000\n",
       "75%         3.750000\n",
       "max     38970.000000"
      ]
     },
     "execution_count": 150,
     "metadata": {},
     "output_type": "execute_result"
    }
   ],
   "source": [
    "df[['UnitPrice']].describe()"
   ]
  },
  {
   "cell_type": "markdown",
   "metadata": {},
   "source": [
    "On remarque l'existence de prix négatifs. Nous allons supprimés de notre base de données."
   ]
  },
  {
   "cell_type": "code",
   "execution_count": 151,
   "metadata": {},
   "outputs": [],
   "source": [
    "df = df[df[['UnitPrice']].values > 0]"
   ]
  },
  {
   "cell_type": "code",
   "execution_count": 152,
   "metadata": {},
   "outputs": [
    {
     "data": {
      "text/html": [
       "<div>\n",
       "<style>\n",
       "    .dataframe thead tr:only-child th {\n",
       "        text-align: right;\n",
       "    }\n",
       "\n",
       "    .dataframe thead th {\n",
       "        text-align: left;\n",
       "    }\n",
       "\n",
       "    .dataframe tbody tr th {\n",
       "        vertical-align: top;\n",
       "    }\n",
       "</style>\n",
       "<table border=\"1\" class=\"dataframe\">\n",
       "  <thead>\n",
       "    <tr style=\"text-align: right;\">\n",
       "      <th></th>\n",
       "      <th>UnitPrice</th>\n",
       "    </tr>\n",
       "  </thead>\n",
       "  <tbody>\n",
       "    <tr>\n",
       "      <th>count</th>\n",
       "      <td>406789.000000</td>\n",
       "    </tr>\n",
       "    <tr>\n",
       "      <th>mean</th>\n",
       "      <td>3.460811</td>\n",
       "    </tr>\n",
       "    <tr>\n",
       "      <th>std</th>\n",
       "      <td>69.318561</td>\n",
       "    </tr>\n",
       "    <tr>\n",
       "      <th>min</th>\n",
       "      <td>0.001000</td>\n",
       "    </tr>\n",
       "    <tr>\n",
       "      <th>25%</th>\n",
       "      <td>1.250000</td>\n",
       "    </tr>\n",
       "    <tr>\n",
       "      <th>50%</th>\n",
       "      <td>1.950000</td>\n",
       "    </tr>\n",
       "    <tr>\n",
       "      <th>75%</th>\n",
       "      <td>3.750000</td>\n",
       "    </tr>\n",
       "    <tr>\n",
       "      <th>max</th>\n",
       "      <td>38970.000000</td>\n",
       "    </tr>\n",
       "  </tbody>\n",
       "</table>\n",
       "</div>"
      ],
      "text/plain": [
       "           UnitPrice\n",
       "count  406789.000000\n",
       "mean        3.460811\n",
       "std        69.318561\n",
       "min         0.001000\n",
       "25%         1.250000\n",
       "50%         1.950000\n",
       "75%         3.750000\n",
       "max     38970.000000"
      ]
     },
     "execution_count": 152,
     "metadata": {},
     "output_type": "execute_result"
    }
   ],
   "source": [
    "df[['UnitPrice']].describe()"
   ]
  },
  {
   "cell_type": "code",
   "execution_count": 153,
   "metadata": {},
   "outputs": [
    {
     "data": {
      "text/plain": [
       "array([[<matplotlib.axes._subplots.AxesSubplot object at 0x00000249ACB37E10>]], dtype=object)"
      ]
     },
     "execution_count": 153,
     "metadata": {},
     "output_type": "execute_result"
    },
    {
     "data": {
      "image/png": "[encoded data removed]",
      "text/plain": [
       "<matplotlib.figure.Figure at 0x249aee46b38>"
      ]
     },
     "metadata": {},
     "output_type": "display_data"
    }
   ],
   "source": [
    "df[['UnitPrice']][df[['UnitPrice']].values < 25].hist(bins = 50)"
   ]
  },
  {
   "cell_type": "markdown",
   "metadata": {},
   "source": [
    "on voit beaucoup de petis achats c'est à dire des items qui ne valent pas chères à l'unités. Il est intéressant également de vor le prix total de ce que les utilisateurs achètent sur le site. Pour cel, on crée la variable \"prix total\"."
   ]
  },
  {
   "cell_type": "code",
   "execution_count": 154,
   "metadata": {},
   "outputs": [],
   "source": [
    "df['TotalPrice'] = df['Quantity'] * df['UnitPrice']"
   ]
  },
  {
   "cell_type": "code",
   "execution_count": 155,
   "metadata": {},
   "outputs": [
    {
     "data": {
      "text/plain": [
       "count    406789.000000\n",
       "mean         20.403860\n",
       "std         427.612692\n",
       "min     -168469.600000\n",
       "25%           4.200000\n",
       "50%          11.100000\n",
       "75%          19.500000\n",
       "max      168469.600000\n",
       "Name: TotalPrice, dtype: float64"
      ]
     },
     "execution_count": 155,
     "metadata": {},
     "output_type": "execute_result"
    }
   ],
   "source": [
    "df['TotalPrice'].describe()"
   ]
  },
  {
   "cell_type": "markdown",
   "metadata": {},
   "source": [
    "On voit un minimum négatif donc il ya dans notre base de données des quantités négatives que nous allons supprimer."
   ]
  },
  {
   "cell_type": "code",
   "execution_count": 156,
   "metadata": {},
   "outputs": [],
   "source": [
    "df = df[df[['Quantity']].values > 0]"
   ]
  },
  {
   "cell_type": "code",
   "execution_count": 157,
   "metadata": {},
   "outputs": [
    {
     "data": {
      "text/plain": [
       "count    397884.000000\n",
       "mean         22.397000\n",
       "std         309.071041\n",
       "min           0.001000\n",
       "25%           4.680000\n",
       "50%          11.800000\n",
       "75%          19.800000\n",
       "max      168469.600000\n",
       "Name: TotalPrice, dtype: float64"
      ]
     },
     "execution_count": 157,
     "metadata": {},
     "output_type": "execute_result"
    }
   ],
   "source": [
    "df['TotalPrice'] = df['Quantity'] * df['UnitPrice']\n",
    "df['TotalPrice'].describe()"
   ]
  },
  {
   "cell_type": "code",
   "execution_count": 158,
   "metadata": {},
   "outputs": [
    {
     "data": {
      "text/plain": [
       "array([[<matplotlib.axes._subplots.AxesSubplot object at 0x00000249B2B7F1D0>]], dtype=object)"
      ]
     },
     "execution_count": 158,
     "metadata": {},
     "output_type": "execute_result"
    },
    {
     "data": {
      "image/png": "[encoded data removed]",
      "text/plain": [
       "<matplotlib.figure.Figure at 0x249b2b7fb70>"
      ]
     },
     "metadata": {},
     "output_type": "display_data"
    }
   ],
   "source": [
    "df[['TotalPrice']][df[['TotalPrice']].values < 100].hist(bins = 50)"
   ]
  },
  {
   "cell_type": "markdown",
   "metadata": {},
   "source": [
    "Encore une fois, on a supprimés les outliers. On voit une distribution plus étalés au niveau des prix. Cependant, on voit quand même que les achats sont principalement à faiblke prix: majoritairement entre 0 et 20 unités de prix."
   ]
  },
  {
   "cell_type": "markdown",
   "metadata": {},
   "source": [
    "## Période des achats\n",
    "\n",
    "Nous allons observer à quelle période corresponde les achats. "
   ]
  },
  {
   "cell_type": "code",
   "execution_count": 159,
   "metadata": {},
   "outputs": [
    {
     "data": {
      "text/plain": [
       "Timestamp('2010-12-01 08:26:00')"
      ]
     },
     "execution_count": 159,
     "metadata": {},
     "output_type": "execute_result"
    }
   ],
   "source": [
    "df['InvoiceDate'].min()"
   ]
  },
  {
   "cell_type": "code",
   "execution_count": 160,
   "metadata": {},
   "outputs": [
    {
     "data": {
      "text/plain": [
       "Timestamp('2011-12-09 12:50:00')"
      ]
     },
     "execution_count": 160,
     "metadata": {},
     "output_type": "execute_result"
    }
   ],
   "source": [
    "df['InvoiceDate'].max()"
   ]
  },
  {
   "cell_type": "code",
   "execution_count": 161,
   "metadata": {},
   "outputs": [
    {
     "data": {
      "text/plain": [
       "<matplotlib.axes._subplots.AxesSubplot at 0x249a5f73ef0>"
      ]
     },
     "execution_count": 161,
     "metadata": {},
     "output_type": "execute_result"
    },
    {
     "data": {
      "image/png": "[encoded data removed]",
      "text/plain": [
       "<matplotlib.figure.Figure at 0x249b606cf98>"
      ]
     },
     "metadata": {},
     "output_type": "display_data"
    }
   ],
   "source": [
    "df['InvoiceDate'].hist()"
   ]
  },
  {
   "cell_type": "markdown",
   "metadata": {},
   "source": [
    "(On remarque que les achats que les commandes augmentent en fin d'année)."
   ]
  },
  {
   "cell_type": "markdown",
   "metadata": {},
   "source": [
    "## Pays d'achats\n",
    "\n",
    "On va observer de quelles provenances sont les utilisateurs qui commandent sur ce site."
   ]
  },
  {
   "cell_type": "code",
   "execution_count": 162,
   "metadata": {},
   "outputs": [
    {
     "data": {
      "text/plain": [
       "37"
      ]
     },
     "execution_count": 162,
     "metadata": {},
     "output_type": "execute_result"
    }
   ],
   "source": [
    " len(df['Country'].unique())"
   ]
  },
  {
   "cell_type": "markdown",
   "metadata": {},
   "source": [
    "Il y a 38 pays différents dans notre dataset. On peut remarquer une distribution assez particulière:"
   ]
  },
  {
   "cell_type": "code",
   "execution_count": 163,
   "metadata": {},
   "outputs": [
    {
     "data": {
      "image/png": "[encoded data removed]",
      "text/plain": [
       "<matplotlib.figure.Figure at 0x249a79e0048>"
      ]
     },
     "metadata": {},
     "output_type": "display_data"
    }
   ],
   "source": [
    "import matplotlib.pyplot as plt\n",
    "plt.rc('font', weight='normal', size=14)\n",
    "nbUK = df[df.Country=='United Kingdom'].CustomerID.sum()\n",
    "nbOthers = df[df.Country!='United Kingdom'].CustomerID.sum()\n",
    "plt.pie([nbUK, nbOthers], labels=['United Kingdom', 'Others'], autopct = lambda x:'{:1.0f}%'.format(x), startangle=90)\n",
    "ax.axis('equal')\n",
    "plt.title('Total')\n",
    "plt.show()"
   ]
  },
  {
   "cell_type": "markdown",
   "metadata": {},
   "source": [
    "91% des utilisateurs viennent de Grande-Bretagne. Pour simplifier nos données nous allons considérer les utilisateurs qui viennent de Grande-Bretagne et les autres."
   ]
  },
  {
   "cell_type": "code",
   "execution_count": 164,
   "metadata": {},
   "outputs": [],
   "source": [
    "import numpy as np\n",
    "df[['Country']] = df[['Country']].fillna('')\n",
    "df[['Country']] = np.array(df[['Country']].values == 'United Kingdom').astype(int)"
   ]
  },
  {
   "cell_type": "code",
   "execution_count": 165,
   "metadata": {},
   "outputs": [],
   "source": [
    "df.rename(columns={'Country': 'isUnitedKingdom'}, inplace=True)"
   ]
  },
  {
   "cell_type": "markdown",
   "metadata": {},
   "source": [
    "Maintenant que nous avons observé notre dataset, nous allons le préparer pour pouvoir par la suite différencier nos utilisateurs.\n",
    "\n",
    "## Préparation des données\n",
    "\n",
    "### Valeurs abberantes\n",
    "\n",
    "Nous avons déjà traiter les données abberantes aux niveux des prix et des quantités. Nous voulons également traiter les doublons."
   ]
  },
  {
   "cell_type": "code",
   "execution_count": 166,
   "metadata": {},
   "outputs": [],
   "source": [
    "df=df.drop_duplicates()"
   ]
  },
  {
   "cell_type": "code",
   "execution_count": 167,
   "metadata": {},
   "outputs": [
    {
     "data": {
      "text/plain": [
       "(392692, 9)"
      ]
     },
     "execution_count": 167,
     "metadata": {},
     "output_type": "execute_result"
    }
   ],
   "source": [
    "df.shape"
   ]
  },
  {
   "cell_type": "markdown",
   "metadata": {},
   "source": [
    "### RFM Table\n",
    "\n",
    "Nous allons transformer nos données en créant une table rfm (recency, frequency, monetary value):\n",
    "- recency: le nombre de jours depuis le dernier achat\n",
    "- frequency: le nombre de fois où l'utilisateur est revenu\n",
    "- monetary value: l'argent dépensé sur le site"
   ]
  },
  {
   "cell_type": "code",
   "execution_count": 168,
   "metadata": {},
   "outputs": [],
   "source": [
    "import datetime as dt\n",
    "NOW = dt.datetime(2011,12,10)\n",
    "df['InvoiceDate'] = pd.to_datetime(df['InvoiceDate'])\n",
    "\n",
    "recency = df.groupby('CustomerID').agg({\n",
    "        'InvoiceDate': lambda x: (NOW - x.max()).days\n",
    "        })\n",
    "recency['InvoiceDate'] = recency['InvoiceDate'].astype(int)\n",
    "recency.rename(columns={'InvoiceDate': 'recency'}, \n",
    "               inplace = True)\n",
    "\n",
    "frequency = df.groupby('CustomerID').agg({'InvoiceNo': lambda x: len(x)})\n",
    "frequency.rename(columns={'InvoiceNo': 'frequency'}, \n",
    "                 inplace = True)\n",
    "\n",
    "monetary_value = df.groupby('CustomerID').agg({'TotalPrice': lambda x: x.sum()})\n",
    "monetary_value.rename(columns={'TotalPrice': 'monetary_value'}, \n",
    "                      inplace=True)"
   ]
  },
  {
   "cell_type": "markdown",
   "metadata": {},
   "source": [
    "Il ne faut pas oublier la requête princiapl de notre amployeur qui est de classifier les utilisateurs le plus rapidement possible. Comme les variables recency et frequency s'inscrivent dans le temps et ne convergent jamais, on ne va pas les utilisés pour classifier nos utilisateurs."
   ]
  },
  {
   "cell_type": "markdown",
   "metadata": {},
   "source": [
    "Nous allons ajouter d'autres variables à celles-ci. Il serait donc intéressant de créer des variables qui vont nous permettre de classifier les utilisateurs dans ce sens.\n",
    "\n",
    "Nous créons donc les variables suivantes:\n",
    "- mean monetary value: l'argent dépensé moyen par achat\n",
    "- mean period between 2 purchases: la période moyenne entre deux achats\n",
    "- mean quantity: la moyenne de la quantité \n",
    "- mean unit price: la moyenne du prix unitaire"
   ]
  },
  {
   "cell_type": "code",
   "execution_count": null,
   "metadata": {},
   "outputs": [],
   "source": [
    "#monetary value spent on the site\n",
    "monetary_value = df.groupby('CustomerID').agg({'TotalPrice': lambda x: x.sum()})\n",
    "monetary_value.rename(columns={'TotalPrice': 'monetary_value'}, \n",
    "                      inplace=True)\n",
    "\n",
    "#mean of total price\n",
    "mean_monetary_value = df.groupby('CustomerID').agg({\n",
    "        'TotalPrice': lambda x : x.sum()/len(x)\n",
    "        })\n",
    "mean_monetary_value.rename(columns={'TotalPrice': 'mean_monetary_value'}, \n",
    "                           inplace=True)\n",
    "\n",
    "#mean period between two purchases\n",
    "mean_period_bt_2 = df.groupby('CustomerID').agg({\n",
    "        'InvoiceDate': lambda x: (x.max() - x.min()).days/len(x)\n",
    "        })\n",
    "mean_period_bt_2.rename(columns={'InvoiceDate': 'mean_period_bt_2'},\n",
    "                        inplace=True)\n",
    "\n",
    "#period in days since the first purchase\n",
    "period_on_the_site = df.groupby('CustomerID').agg({\n",
    "        'InvoiceDate': lambda x: (NOW - x.min()).days\n",
    "        })\n",
    "period_on_the_site.rename(columns={'InvoiceDate': 'period_on_the_site'},\n",
    "                          inplace=True)\n",
    "\n",
    "#monetary value on the site by day\n",
    "a = monetary_value.values\n",
    "b = period_on_the_site.values\n",
    "monetary_value_onsite = pd.DataFrame(np.divide(a, b, out=np.zeros_like(a), where=b!=0), index = monetary_value.index, columns = ['monetary_value_on_site'])\n",
    "\n",
    "#isUnitedKingdom: is user from united kingdom\n",
    "isUnitedKingdom = df.groupby('CustomerID').agg({'isUnitedKingdom': lambda x: sum(x)/len(x)})\n",
    "\n",
    "#frequency: number of times the user bought something on the site\n",
    "mean_quantity = df.groupby('CustomerID').agg({'Quantity': lambda x: x.mean()})\n",
    "mean_quantity.rename(columns={'Quantity': 'mean_quantity'}, \n",
    "                 inplace = True)\n",
    "\n",
    "#frequency: number of times the user bought something on the site\n",
    "mean_unit_price = df.groupby('CustomerID').agg({'UnitPrice': lambda x: x.mean()})\n",
    "mean_unit_price.rename(columns={'UnitPrice': 'mean_unit_price'}, \n",
    "                 inplace = True)"
   ]
  },
  {
   "cell_type": "markdown",
   "metadata": {},
   "source": [
    "On crée notre table et on la sauvegarde."
   ]
  },
  {
   "cell_type": "code",
   "execution_count": 170,
   "metadata": {},
   "outputs": [],
   "source": [
    "data = pd.concat([monetary_value, mean_monetary_value, mean_period_bt_2, monetary_value_onsite, mean_quantity, mean_unit_price, isUnitedKingdom], axis = 1)\n",
    "data.to_csv('data.csv')"
   ]
  },
  {
   "cell_type": "markdown",
   "metadata": {},
   "source": [
    "## Conclusion\n",
    "\n",
    "Nous avons observer les données de notre dataset et avons préparer les données sous la forme d'une table qui nous permet de connaitre certaines informations par individus. Nous voulons classer les utilisateurs dès leurs premiers achats. Nous voulons donc que notre algorithme de classification converge rapidement vers un taux d'erreur nul (ou quasi nul en fonction de l'efficacité de l'algorithme lui-même). Nous allons donc maintenant essayer de mettre cette algorithme en place."
   ]
  }
 ],
 "metadata": {
  "kernelspec": {
   "display_name": "Python 3",
   "language": "python",
   "name": "python3"
  },
  "language_info": {
   "codemirror_mode": {
    "name": "ipython",
    "version": 3
   },
   "file_extension": ".py",
   "mimetype": "text/x-python",
   "name": "python",
   "nbconvert_exporter": "python",
   "pygments_lexer": "ipython3",
   "version": "3.6.1"
  }
 },
 "nbformat": 4,
 "nbformat_minor": 2
}
